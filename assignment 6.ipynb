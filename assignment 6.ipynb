{
 "cells": [
  {
   "cell_type": "code",
   "execution_count": 1,
   "metadata": {},
   "outputs": [
    {
     "data": {
      "text/plain": [
       "'An iterator is an object that contains a countable number of values.\\n\\nAn iterator is an object that can be iterated upon, meaning that you can traverse through all the values.\\n\\nTechnically, in Python, an iterator is an object which implements the iterator protocol,\\nwhich consist of the methods __iter__() and __next__().\\n\\nLists, tuples, dictionaries, and sets are all iterable objects. \\nThey are iterable containers which you can get an iterator from.'"
      ]
     },
     "execution_count": 1,
     "metadata": {},
     "output_type": "execute_result"
    }
   ],
   "source": [
    "#Iterator\n",
    "'''An iterator is an object that contains a countable number of values.\n",
    "\n",
    "An iterator is an object that can be iterated upon, meaning that you can traverse through all the values.\n",
    "\n",
    "Technically, in Python, an iterator is an object which implements the iterator protocol,\n",
    "which consist of the methods __iter__() and __next__().\n",
    "\n",
    "Lists, tuples, dictionaries, and sets are all iterable objects. \n",
    "They are iterable containers which you can get an iterator from.\n",
    "\n",
    "Strings are also iterable objects'''"
   ]
  },
  {
   "cell_type": "code",
   "execution_count": 2,
   "metadata": {},
   "outputs": [
    {
     "name": "stdout",
     "output_type": "stream",
     "text": [
      "yellow\n",
      "blue\n",
      "green\n"
     ]
    }
   ],
   "source": [
    "mytuple = (\"yellow\", \"blue\", \"green\",\"red\")\n",
    "myit = iter(mytuple)\n",
    "\n",
    "print(next(myit))\n",
    "print(next(myit))\n",
    "print(next(myit))"
   ]
  },
  {
   "cell_type": "code",
   "execution_count": 3,
   "metadata": {},
   "outputs": [
    {
     "name": "stdout",
     "output_type": "stream",
     "text": [
      "y\n",
      "e\n",
      "l\n",
      "l\n"
     ]
    }
   ],
   "source": [
    "mystr = \"yellow\"\n",
    "myit = iter(mystr)\n",
    "\n",
    "print(next(myit))\n",
    "print(next(myit))\n",
    "print(next(myit))\n",
    "print(next(myit))"
   ]
  },
  {
   "cell_type": "code",
   "execution_count": 4,
   "metadata": {},
   "outputs": [
    {
     "data": {
      "text/plain": [
       "'map() function returns a list of the results after applying the given function to each item of a given iterable (list, \\ntuple etc.)\\nSyntax :\\n        map(fun, iter)\\n\\nfun : It is a function to which map passes each element of given iterable.\\niter : It is a iterable which is to be mapped.'"
      ]
     },
     "execution_count": 4,
     "metadata": {},
     "output_type": "execute_result"
    }
   ],
   "source": [
    "# Map():\n",
    "\"\"\"map() function returns a list of the results after applying the given function to each item of a given iterable (list, \n",
    "tuple etc.)\n",
    "Syntax :\n",
    "        map(fun, iter)\n",
    "\n",
    "fun : It is a function to which map passes each element of given iterable.\n",
    "iter : It is a iterable which is to be mapped.\"\"\""
   ]
  },
  {
   "cell_type": "code",
   "execution_count": 10,
   "metadata": {},
   "outputs": [
    {
     "name": "stdout",
     "output_type": "stream",
     "text": [
      "[4, 16, 36, 64]\n"
     ]
    }
   ],
   "source": [
    "def mult(i):\n",
    "    return i*i\n",
    "i=(2,4,6,8)\n",
    "r=map(mult,i)\n",
    "print(list(r))"
   ]
  },
  {
   "cell_type": "code",
   "execution_count": 11,
   "metadata": {},
   "outputs": [
    {
     "data": {
      "text/plain": [
       "'The reduce() function accepts a function and a sequence and returns a single value calculated as follows:;-\\n\\n\\n. Initially, the function is called with the first two items from the sequence and the result is returned.\\n. The function is then called again with the result obtained in step 1 and the next value in the sequence. This process keeps\\n  repeating until there are items in the sequence.\\n  \\n  syntax: reduce(function, sequence[, initial]) -> value'"
      ]
     },
     "execution_count": 11,
     "metadata": {},
     "output_type": "execute_result"
    }
   ],
   "source": [
    "# Reduce():\n",
    "\"\"\"The reduce() function accepts a function and a sequence and returns a single value calculated as follows:;-\n",
    "\n",
    "\n",
    ". Initially, the function is called with the first two items from the sequence and the result is returned.\n",
    ". The function is then called again with the result obtained in step 1 and the next value in the sequence. This process keeps\n",
    "  repeating until there are items in the sequence.\n",
    "  \n",
    "  syntax: reduce(function, sequence[, initial]) -> value\"\"\""
   ]
  },
  {
   "cell_type": "code",
   "execution_count": null,
   "metadata": {},
   "outputs": [],
   "source": [
    "from functools import reduce\n",
    "def mult(x, y):\n",
    "    return x1 + x2\n",
    "reduce(do_sum, [1, 2, 3, 4])"
   ]
  }
 ],
 "metadata": {
  "kernelspec": {
   "display_name": "Python 3",
   "language": "python",
   "name": "python3"
  },
  "language_info": {
   "codemirror_mode": {
    "name": "ipython",
    "version": 3
   },
   "file_extension": ".py",
   "mimetype": "text/x-python",
   "name": "python",
   "nbconvert_exporter": "python",
   "pygments_lexer": "ipython3",
   "version": "3.7.0"
  }
 },
 "nbformat": 4,
 "nbformat_minor": 2
}

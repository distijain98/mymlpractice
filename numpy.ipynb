{
 "cells": [
  {
   "cell_type": "code",
   "execution_count": 1,
   "metadata": {},
   "outputs": [],
   "source": [
    "import numpy as np\n",
    "a = np.array([1,2])\n",
    "b = np.array([2,1])\n"
   ]
  },
  {
   "cell_type": "code",
   "execution_count": 2,
   "metadata": {},
   "outputs": [
    {
     "name": "stdout",
     "output_type": "stream",
     "text": [
      "[0.         0.69314718]\n"
     ]
    }
   ],
   "source": [
    "z = np.log(a) \n",
    "print(z)\n"
   ]
  },
  {
   "cell_type": "code",
   "execution_count": 3,
   "metadata": {},
   "outputs": [
    {
     "name": "stdout",
     "output_type": "stream",
     "text": [
      "[2.71828183 7.3890561 ]\n"
     ]
    }
   ],
   "source": [
    "z = np.exp(a)\n",
    "print(z)\n",
    "\n"
   ]
  },
  {
   "cell_type": "code",
   "execution_count": 4,
   "metadata": {},
   "outputs": [
    {
     "name": "stdout",
     "output_type": "stream",
     "text": [
      "[1.         1.41421356]\n"
     ]
    }
   ],
   "source": [
    "z = np.sqrt(a)\n",
    "print(z)\n"
   ]
  },
  {
   "cell_type": "code",
   "execution_count": 5,
   "metadata": {},
   "outputs": [
    {
     "name": "stdout",
     "output_type": "stream",
     "text": [
      "4\n"
     ]
    }
   ],
   "source": [
    "\n",
    "z = np.dot(a,b)\n",
    "z = a.dot(b)\n",
    "print(z)\n"
   ]
  },
  {
   "cell_type": "code",
   "execution_count": 6,
   "metadata": {},
   "outputs": [
    {
     "name": "stdout",
     "output_type": "stream",
     "text": [
      "2.23606797749979\n"
     ]
    }
   ],
   "source": [
    "\n",
    "#to find magnitude of a\n",
    "\n",
    "z = np.linalg.norm(a)\n",
    "print(z)\n"
   ]
  },
  {
   "cell_type": "code",
   "execution_count": 7,
   "metadata": {},
   "outputs": [
    {
     "name": "stdout",
     "output_type": "stream",
     "text": [
      "0.7999999999999998\n"
     ]
    }
   ],
   "source": [
    "\n",
    "#angle b/w two vectors\n",
    "\n",
    "cosangle = a.dot(b) / (np.linalg.norm(a) * np.linalg.norm(b))\n",
    "print(cosangle)\n"
   ]
  },
  {
   "cell_type": "code",
   "execution_count": 8,
   "metadata": {},
   "outputs": [
    {
     "name": "stdout",
     "output_type": "stream",
     "text": [
      "0.6435011087932847\n"
     ]
    }
   ],
   "source": [
    "\n",
    "# to print angle in radian\n",
    "angle = np.arccos(cosangle)\n",
    "print(angle)\n",
    "\n"
   ]
  },
  {
   "cell_type": "code",
   "execution_count": 9,
   "metadata": {},
   "outputs": [
    {
     "name": "stdout",
     "output_type": "stream",
     "text": [
      "[[1 2 3]\n",
      " [4 5 6]]\n",
      "1\n"
     ]
    }
   ],
   "source": [
    "#official documntation is against using matrix\n",
    "#so we convert matrix into array\n",
    "\n",
    "a = np.matrix([[1,2,3],[4,5,6]])\n",
    "print(a)\n",
    "print(a[0,0])\n"
   ]
  },
  {
   "cell_type": "code",
   "execution_count": 10,
   "metadata": {},
   "outputs": [
    {
     "name": "stdout",
     "output_type": "stream",
     "text": [
      "[[1 2 3]\n",
      " [4 5 6]]\n",
      "[[1 4]\n",
      " [2 5]\n",
      " [3 6]]\n"
     ]
    }
   ],
   "source": [
    "x = np.array(a)\n",
    "print(x)\n",
    "print(x.T) #transpose\n"
   ]
  },
  {
   "cell_type": "code",
   "execution_count": 11,
   "metadata": {},
   "outputs": [
    {
     "name": "stdout",
     "output_type": "stream",
     "text": [
      "[0. 0. 0. 0. 0.]\n"
     ]
    }
   ],
   "source": [
    "\n",
    "#to primt 1-D array of zeros\n",
    "z = np.zeros(5)\n",
    "print(z)\n",
    "\n"
   ]
  },
  {
   "cell_type": "code",
   "execution_count": 12,
   "metadata": {},
   "outputs": [
    {
     "name": "stdout",
     "output_type": "stream",
     "text": [
      "[[0. 0.]\n",
      " [0. 0.]]\n"
     ]
    }
   ],
   "source": [
    "m = np.zeros((2,2)) #5×5 matrix of zeros\n",
    "print(m)\n",
    "\n"
   ]
  },
  {
   "cell_type": "code",
   "execution_count": 13,
   "metadata": {},
   "outputs": [
    {
     "name": "stdout",
     "output_type": "stream",
     "text": [
      "[[1. 1. 1.]\n",
      " [1. 1. 1.]\n",
      " [1. 1. 1.]]\n"
     ]
    }
   ],
   "source": [
    "#for 1's\n",
    "o = np.ones((3,3))\n",
    "print(o)\n"
   ]
  },
  {
   "cell_type": "code",
   "execution_count": 14,
   "metadata": {},
   "outputs": [
    {
     "name": "stdout",
     "output_type": "stream",
     "text": [
      "[[0.60032408 0.71969785]\n",
      " [0.33545035 0.50690798]]\n"
     ]
    }
   ],
   "source": [
    "#no from random varuable b/w 0 & 1\n",
    "r = np.random.random((2,2))\n",
    "print(r)  #matrix 2×2 of random no. b/w 0&1"
   ]
  },
  {
   "cell_type": "code",
   "execution_count": 15,
   "metadata": {},
   "outputs": [
    {
     "name": "stdout",
     "output_type": "stream",
     "text": [
      "[[-0.71459412  0.15665076]\n",
      " [ 1.2015374   0.26091943]]\n"
     ]
    }
   ],
   "source": [
    "#no from gaussian distribution\n",
    "#with mean 0 and variance 1\n",
    "h = np.random.randn(2,2)\n",
    "print(h)"
   ]
  },
  {
   "cell_type": "code",
   "execution_count": 16,
   "metadata": {},
   "outputs": [
    {
     "name": "stdout",
     "output_type": "stream",
     "text": [
      "0.22612836714297707\n",
      "0.4606047846414354\n"
     ]
    }
   ],
   "source": [
    "#for mean and variance\n",
    "print(h.mean())\n",
    "print(h.var())"
   ]
  },
  {
   "cell_type": "code",
   "execution_count": 17,
   "metadata": {},
   "outputs": [
    {
     "name": "stdout",
     "output_type": "stream",
     "text": [
      "[[ 34  43]\n",
      " [ 26  32]\n",
      " [120 151]]\n"
     ]
    }
   ],
   "source": [
    "p = np.array([[1,2,3],[2,2,1],[6,7,9]])\n",
    "q = np.array([[4,5],[6,7],[6,8]])\n",
    "\n",
    "r = p.dot(q)\n",
    "print(r)"
   ]
  },
  {
   "cell_type": "code",
   "execution_count": 18,
   "metadata": {},
   "outputs": [
    {
     "name": "stdout",
     "output_type": "stream",
     "text": [
      "[[-1.57142857 -0.42857143  0.57142857]\n",
      " [ 1.71428571  1.28571429 -0.71428571]\n",
      " [-0.28571429 -0.71428571  0.28571429]]\n"
     ]
    }
   ],
   "source": [
    "#to find incverse\n",
    "pinv = np.linalg.inv(p)\n",
    "print(pinv)"
   ]
  },
  {
   "cell_type": "code",
   "execution_count": 19,
   "metadata": {},
   "outputs": [
    {
     "name": "stdout",
     "output_type": "stream",
     "text": [
      "[[ 1.00000000e+00 -2.22044605e-16  5.55111512e-17]\n",
      " [ 5.55111512e-17  1.00000000e+00  5.55111512e-17]\n",
      " [ 1.38777878e-15  1.11022302e-15  1.00000000e+00]]\n"
     ]
    }
   ],
   "source": [
    "\n",
    "# to check if inverse is correct\n",
    " #we multiply it by array\n",
    "#if we get identity matrix thn right\n",
    "\n",
    "correct = p.dot(pinv)\n",
    "print(correct)\n"
   ]
  },
  {
   "cell_type": "code",
   "execution_count": 20,
   "metadata": {},
   "outputs": [
    {
     "name": "stdout",
     "output_type": "stream",
     "text": [
      "-6.999999999999999\n"
     ]
    }
   ],
   "source": [
    "#matrix determinent\n",
    "\n",
    "#to find determinent of an array\n",
    "d = np.linalg.det(p)\n",
    "print(d)\n"
   ]
  },
  {
   "cell_type": "code",
   "execution_count": 21,
   "metadata": {},
   "outputs": [
    {
     "name": "stdout",
     "output_type": "stream",
     "text": [
      "[1 2 9]\n"
     ]
    }
   ],
   "source": [
    "#diagonal of matrix\n",
    "\n",
    "di = np.diag(p)\n",
    "print(di)\n"
   ]
  },
  {
   "cell_type": "code",
   "execution_count": 22,
   "metadata": {},
   "outputs": [
    {
     "name": "stdout",
     "output_type": "stream",
     "text": [
      "[[1 0 0 0]\n",
      " [0 2 0 0]\n",
      " [0 0 3 0]\n",
      " [0 0 0 4]]\n"
     ]
    }
   ],
   "source": [
    "#to make diagonal matrix\n",
    "\n",
    "x = np.diag([1,2,3,4])\n",
    "print(x)\n"
   ]
  },
  {
   "cell_type": "code",
   "execution_count": 23,
   "metadata": {},
   "outputs": [
    {
     "name": "stdout",
     "output_type": "stream",
     "text": [
      "10\n"
     ]
    }
   ],
   "source": [
    "#trace of a matrix\n",
    "\n",
    "x = np.trace(x)\n",
    "print(x)"
   ]
  },
  {
   "cell_type": "code",
   "execution_count": null,
   "metadata": {},
   "outputs": [],
   "source": []
  }
 ],
 "metadata": {
  "kernelspec": {
   "display_name": "Python 3",
   "language": "python",
   "name": "python3"
  },
  "language_info": {
   "codemirror_mode": {
    "name": "ipython",
    "version": 3
   },
   "file_extension": ".py",
   "mimetype": "text/x-python",
   "name": "python",
   "nbconvert_exporter": "python",
   "pygments_lexer": "ipython3",
   "version": "3.6.5"
  }
 },
 "nbformat": 4,
 "nbformat_minor": 2
}
